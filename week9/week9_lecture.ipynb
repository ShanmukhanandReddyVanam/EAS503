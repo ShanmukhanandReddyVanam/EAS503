{
 "cells": [
  {
   "cell_type": "code",
   "execution_count": null,
   "metadata": {},
   "outputs": [],
   "source": [
    "my_list = [1, 2, 3, 4]\n",
    "my_variable = 5\n",
    "\n",
    "\n",
    "def function1(my_list, my_variable):\n",
    "    print('my_list before change inside function1:', my_list)\n",
    "    print('my_variable before change inside function1:', my_variable)\n",
    "    # my_list.append(30) # this is don in place, so is reflected globally after running function\n",
    "    my_list = my_list + [30] \n",
    "    my_variable = 10\n",
    "\n",
    "    print('my_list after change inside function1:', my_list)\n",
    "    print('my_variable after change inside function1:', my_variable)\n",
    "\n",
    "\n",
    "# imutable -- int, float, str, tuple, bool - these are passed by value, send a copy of the value, so changing them inside the loop is not reflected outside\n",
    "# mutable -- dict, list - these are passed by reference\n",
    "    \n",
    "    \n",
    "function1(my_list, my_variable)\n",
    "print(f'my_list after calling function1 is {my_list}')\n",
    "print(f'my_variable after calling function1 is {my_variable}')"
   ]
  },
  {
   "cell_type": "code",
   "execution_count": 1,
   "metadata": {},
   "outputs": [
    {
     "name": "stdout",
     "output_type": "stream",
     "text": [
      "1949992280768\n"
     ]
    }
   ],
   "source": [
    "my_list = [1, 2, 3, 4]\n",
    "\n",
    "print(id(my_list))"
   ]
  },
  {
   "cell_type": "code",
   "execution_count": 2,
   "metadata": {},
   "outputs": [
    {
     "data": {
      "text/plain": [
       "[1, 2, 3, 4, 30]"
      ]
     },
     "execution_count": 2,
     "metadata": {},
     "output_type": "execute_result"
    }
   ],
   "source": [
    "my_list + [30]"
   ]
  },
  {
   "cell_type": "code",
   "execution_count": 3,
   "metadata": {},
   "outputs": [
    {
     "data": {
      "text/plain": [
       "[1, 2, 3, 4]"
      ]
     },
     "execution_count": 3,
     "metadata": {},
     "output_type": "execute_result"
    }
   ],
   "source": [
    "my_list"
   ]
  },
  {
   "cell_type": "code",
   "execution_count": 4,
   "metadata": {},
   "outputs": [],
   "source": [
    "my_list = my_list + [30]\n"
   ]
  },
  {
   "cell_type": "code",
   "execution_count": 5,
   "metadata": {},
   "outputs": [
    {
     "name": "stdout",
     "output_type": "stream",
     "text": [
      "[1, 2, 3, 4, 30, 30]\n"
     ]
    }
   ],
   "source": [
    "my_list.append(30)\n",
    "print(my_list)"
   ]
  },
  {
   "cell_type": "code",
   "execution_count": 6,
   "metadata": {},
   "outputs": [
    {
     "name": "stdout",
     "output_type": "stream",
     "text": [
      "{'a': 2, 'b': 3}\n",
      "{'b': 3, 'a': 2}\n",
      "True\n"
     ]
    }
   ],
   "source": [
    "x = {'a': 2, 'b': 3}\n",
    "\n",
    "y = {'b':3, 'a':2}\n",
    "\n",
    "print(x)\n",
    "print(y)\n",
    "\n",
    "print(x==y)"
   ]
  },
  {
   "cell_type": "code",
   "execution_count": 12,
   "metadata": {},
   "outputs": [
    {
     "name": "stdout",
     "output_type": "stream",
     "text": [
      "Doe, John\n",
      "Doe, Jane\n",
      "john@buffalo.edu\n",
      "john@buffalo.edu\n"
     ]
    }
   ],
   "source": [
    "class Person:\n",
    "    def __init__(self, first_name, last_name, email):\n",
    "        self.first_name = first_name\n",
    "        self.last_name = last_name\n",
    "        self.email = email\n",
    "\n",
    "    def __str__(self):\n",
    "        return f'{self.first_name} {self.last_name}'\n",
    "\n",
    "    def get_email(self):\n",
    "        return self.email\n",
    "\n",
    "    def get_full_name(self):\n",
    "        return f'{self.last_name}, {self.first_name}'\n",
    "\n",
    "\n",
    "\n",
    "    \n",
    "p1 = Person('John', 'Doe', 'john@buffalo.edu')\n",
    "p2 = Person('Jane', 'Doe', 'jane@buffalo.edu')\n",
    "\n",
    "print(p1.get_full_name())\n",
    "print(p2.get_full_name())\n",
    "\n",
    "print(p1.email)\n",
    "print(p1.get_email())"
   ]
  },
  {
   "cell_type": "code",
   "execution_count": 22,
   "metadata": {},
   "outputs": [
    {
     "name": "stdout",
     "output_type": "stream",
     "text": [
      "john doe\n",
      "Already enrolled in Math!\n",
      "You will be over the max credits! Cannot add Physics.\n",
      "Chemistry, English, Math\n"
     ]
    }
   ],
   "source": [
    "class Student(Person):\n",
    "    PROGRAMS = ['graduate', 'undergraduate']\n",
    "    MAX_CREDITS = 9\n",
    "\n",
    "    def __init__(self, first_name, last_name, email, program):\n",
    "        super().__init__(first_name, last_name, email)\n",
    "        if program.lower() not in self.PROGRAMS:\n",
    "            raise ValueError('program can only be \"graduate\" or \"undergraduate\"')\n",
    "        self.program = program\n",
    "        self.classes = []\n",
    "        self.enrolled_credits = 0\n",
    "\n",
    "    def enroll(self, course):\n",
    "#         if self.enrolled_credits < self.MAX_CREDITS:\n",
    "#             self.classes.append(course)\n",
    "#             self.enrolled_credits += course.credits\n",
    "#         else:\n",
    "#             print('Cannot enroll')\n",
    "       \n",
    "#         if self.get_total_credits() + course.credits > self.MAX_CREDITS:\n",
    "#             print(f'You will be over the max credits! Cannot add {course}.')\n",
    "#             return\n",
    "\n",
    "        if self.enrolled_credits + course.credits > self.MAX_CREDITS:\n",
    "            print(f'You will be over the max credits! Cannot add {course}.')\n",
    "            return\n",
    "\n",
    "        \n",
    "        if course not in self.classes:\n",
    "            self.classes.append(course)\n",
    "            self.enrolled_credits += course.credits\n",
    "        else:\n",
    "            print(f'Already enrolled in {course}!')\n",
    "\n",
    "    def print_classes(self):\n",
    "        classes = ', '.join(sorted([i.course_name for i in self.classes]))\n",
    "        print(f'{classes}')\n",
    "\n",
    "\n",
    "    def get_total_credits(self):\n",
    "        total_credits = 0\n",
    "        for ele in self.classes:\n",
    "            total_credits += ele.credits\n",
    "        return total_credits\n",
    "\n",
    "class Course:\n",
    "    def __init__(self, course_name, credits):\n",
    "        self.course_name = course_name\n",
    "        self.credits = credits\n",
    "\n",
    "    def __repr__(self):\n",
    "        return f'{self.course_name}'\n",
    "\n",
    "    def __str__(self):\n",
    "        return f'{self.course_name}'\n",
    "\n",
    "\n",
    "    def get_course_name(self):\n",
    "        return self.course_name\n",
    "\n",
    "\n",
    "c1 = Course('Math', 3)\n",
    "c2 = Course('Physics', 4)\n",
    "c3 = Course('Chemistry', 3)\n",
    "c4 = Course('English', 3)\n",
    "\n",
    "s1 = Student('john', 'doe', 'jdoe@example.edu', 'graduate')\n",
    "print(s1)\n",
    "s1.enroll(c1)\n",
    "s1.enroll(c1)\n",
    "\n",
    "\n",
    "s1.enroll(c3)\n",
    "s1.enroll(c4)\n",
    "s1.enroll(c2)\n",
    "s1.print_classes()\n"
   ]
  },
  {
   "cell_type": "code",
   "execution_count": 30,
   "metadata": {},
   "outputs": [
    {
     "name": "stdout",
     "output_type": "stream",
     "text": [
      "Enter name of data file: data.tsv\n"
     ]
    }
   ],
   "source": [
    "class Person:\n",
    "    def __init__(self, first_name, last_name):\n",
    "        self.first_name = first_name\n",
    "        self.last_name = last_name\n",
    "\n",
    "    def __repr__(self):\n",
    "        return f'{self.first_name} {self.last_name}'\n",
    "\n",
    "\n",
    "class Student(Person):\n",
    "    def __init__(self, first_name, last_name, credit_hours, q_point):\n",
    "        super().__init__(first_name, last_name)\n",
    "        self.credit_hours = credit_hours\n",
    "        self.q_point = q_point # grade * number of credits 128*4/128 4.0 GPA\n",
    "\n",
    "    def get_gpa(self):\n",
    "        return round(self.q_point / self.credit_hours, 2)\n",
    "\n",
    "\n",
    "file_name = input('Enter name of data file: ')\n",
    "\n"
   ]
  },
  {
   "cell_type": "code",
   "execution_count": 43,
   "metadata": {},
   "outputs": [
    {
     "name": "stdout",
     "output_type": "stream",
     "text": [
      "Student with best GPA  Brandon Crane 3.89\n",
      "Student with worst GPA  Jennifer Vazquez 1.5\n",
      "Crane 3.89\n"
     ]
    }
   ],
   "source": [
    "students = []\n",
    "with open(file_name) as file:\n",
    "    for line in file:\n",
    "        name, credit_hours, q_point = line.strip().split('\\t')\n",
    "        last_name, first_name = name.split(',')\n",
    "        first_name = first_name.strip()\n",
    "        student_obj = Student(first_name, last_name, int(credit_hours), int(q_point))\n",
    "        students.append(student_obj)\n",
    "        \n",
    "student_best_gpa = students[0]\n",
    "student_worst_gpa = students[0]\n",
    "for student in students:\n",
    "    if student.get_gpa() > student_best_gpa.get_gpa():\n",
    "        student_best_gpa = student\n",
    "    if student.get_gpa() < student_worst_gpa.get_gpa():\n",
    "        student_worst_gpa = student\n",
    "\n",
    "print('Student with best GPA ', student_best_gpa, student_best_gpa.get_gpa())\n",
    "print('Student with worst GPA ', student_worst_gpa, student_worst_gpa.get_gpa())\n",
    "\n",
    "\n",
    "\n",
    "min(students, key=lambda student: student.get_gpa())\n",
    "s1 = max(students, key=lambda student: student.get_gpa())\n",
    "print(s1.last_name, s1.get_gpa())"
   ]
  },
  {
   "cell_type": "code",
   "execution_count": null,
   "metadata": {},
   "outputs": [],
   "source": []
  }
 ],
 "metadata": {
  "kernelspec": {
   "display_name": "Python 3",
   "language": "python",
   "name": "python3"
  },
  "language_info": {
   "codemirror_mode": {
    "name": "ipython",
    "version": 3
   },
   "file_extension": ".py",
   "mimetype": "text/x-python",
   "name": "python",
   "nbconvert_exporter": "python",
   "pygments_lexer": "ipython3",
   "version": "3.8.5"
  }
 },
 "nbformat": 4,
 "nbformat_minor": 4
}
